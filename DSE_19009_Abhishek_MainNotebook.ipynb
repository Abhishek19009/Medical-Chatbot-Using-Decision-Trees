{
 "cells": [
  {
   "cell_type": "markdown",
   "id": "503e440f",
   "metadata": {},
   "source": [
    "## Modelling a medical chatbot system using Decision Trees.\n",
    "\n",
    "There are only 2 code files in this project.</br>\n",
    "This is the main script to be executed.</br>\n",
    "Other file DSE_19009_Abhishek_ModelPrediction.py contains necessary functions that are imported into this script."
   ]
  },
  {
   "cell_type": "code",
   "execution_count": 4,
   "id": "31d4b800",
   "metadata": {},
   "outputs": [
    {
     "name": "stdout",
     "output_type": "stream",
     "text": [
      "Requirement already satisfied: pandas in c:\\users\\abhishek kuriyal\\.conda\\envs\\project\\lib\\site-packages (1.3.4)\n",
      "Requirement already satisfied: numpy>=1.17.3 in c:\\users\\abhishek kuriyal\\.conda\\envs\\project\\lib\\site-packages (from pandas) (1.21.4)\n",
      "Requirement already satisfied: python-dateutil>=2.7.3 in c:\\users\\abhishek kuriyal\\.conda\\envs\\project\\lib\\site-packages (from pandas) (2.8.2)\n",
      "Requirement already satisfied: pytz>=2017.3 in c:\\users\\abhishek kuriyal\\.conda\\envs\\project\\lib\\site-packages (from pandas) (2021.3)\n",
      "Requirement already satisfied: six>=1.5 in c:\\users\\abhishek kuriyal\\.conda\\envs\\project\\lib\\site-packages (from python-dateutil>=2.7.3->pandas) (1.16.0)\n",
      "Requirement already satisfied: pyttsx3 in c:\\users\\abhishek kuriyal\\.conda\\envs\\project\\lib\\site-packages (2.90)\n",
      "Requirement already satisfied: comtypes in c:\\users\\abhishek kuriyal\\.conda\\envs\\project\\lib\\site-packages (from pyttsx3) (1.1.10)\n",
      "Requirement already satisfied: pypiwin32 in c:\\users\\abhishek kuriyal\\.conda\\envs\\project\\lib\\site-packages (from pyttsx3) (223)\n",
      "Requirement already satisfied: pywin32 in c:\\users\\abhishek kuriyal\\.conda\\envs\\project\\lib\\site-packages (from pyttsx3) (302)\n",
      "Requirement already satisfied: sklearn in c:\\users\\abhishek kuriyal\\.conda\\envs\\project\\lib\\site-packages (0.0)\n",
      "Requirement already satisfied: scikit-learn in c:\\users\\abhishek kuriyal\\.conda\\envs\\project\\lib\\site-packages (from sklearn) (1.0.1)\n",
      "Requirement already satisfied: numpy>=1.14.6 in c:\\users\\abhishek kuriyal\\.conda\\envs\\project\\lib\\site-packages (from scikit-learn->sklearn) (1.21.4)\n",
      "Requirement already satisfied: threadpoolctl>=2.0.0 in c:\\users\\abhishek kuriyal\\.conda\\envs\\project\\lib\\site-packages (from scikit-learn->sklearn) (3.0.0)\n",
      "Requirement already satisfied: joblib>=0.11 in c:\\users\\abhishek kuriyal\\.conda\\envs\\project\\lib\\site-packages (from scikit-learn->sklearn) (1.1.0)\n",
      "Requirement already satisfied: scipy>=1.1.0 in c:\\users\\abhishek kuriyal\\.conda\\envs\\project\\lib\\site-packages (from scikit-learn->sklearn) (1.7.2)\n",
      "Requirement already satisfied: numpy in c:\\users\\abhishek kuriyal\\.conda\\envs\\project\\lib\\site-packages (1.21.4)\n"
     ]
    }
   ],
   "source": [
    "# These are library requirements for the project.\n",
    "# Please execute this cell for installing all necessary modules\n",
    "!pip install pandas\n",
    "!pip install pyttsx3\n",
    "!pip install sklearn\n",
    "!pip install numpy"
   ]
  },
  {
   "cell_type": "code",
   "execution_count": 5,
   "id": "aef3772b",
   "metadata": {},
   "outputs": [],
   "source": [
    "from DSE_19009_Abhishek_ModelPrediction import getSeverityDict, getDescription, getprecautionDict, getInfo, tree_to_code, clf, cols"
   ]
  },
  {
   "cell_type": "code",
   "execution_count": 6,
   "id": "ffa9adcc",
   "metadata": {},
   "outputs": [
    {
     "name": "stdout",
     "output_type": "stream",
     "text": [
      "\t\t<--------------      HEARTBEAT, An AI based disease predictor     ---------------->\n",
      "\n",
      "Cough, Cough....\n",
      "\t\tHey, there! I am your nerdy, personal medical assitant.\n",
      "\t\tI can find out what's bugging your body, if you answer some of my questions.\n",
      "\t\tTogether we will pull through this.... BELIEVE IT!!!!\n",
      "\n",
      "Your sweet name? \n",
      "\t\t\t\t\t\t->Abhishek Kuriyal\n",
      "Hello Abhishek, nice to meet you!!!\n",
      "Kindly enter any symptom you are experiencing  \n",
      "\t\t\t\t\t\t->fever\n",
      "\n",
      "Based on your input, following symptoms can be interpreted: \n",
      "\n",
      "0 ) high_fever\n",
      "1 ) mild_fever\n",
      "\n",
      "Please select the one you meant (0 - 1):  1\n",
      "\n",
      "\n",
      "\n",
      "Very Well.. From how many days have you been experiencing this? : 7\n",
      "Are you experiencing any of the following symptoms, apart from the one previously mentioned (yes/no): \n",
      "\n",
      "itching ? : no\n",
      "\n",
      "\n",
      "\n",
      "skin_rash ? : no\n",
      "\n",
      "\n",
      "\n",
      "fatigue ? : yes\n",
      "\n",
      "\n",
      "\n",
      "lethargy ? : yes\n",
      "\n",
      "\n",
      "\n",
      "high_fever ? : no\n",
      "\n",
      "\n",
      "\n",
      "headache ? : yes\n",
      "\n",
      "\n",
      "\n",
      "loss_of_appetite ? : yes\n",
      "\n",
      "\n",
      "\n",
      "mild_fever ? : yes\n",
      "\n",
      "\n",
      "\n",
      "swelled_lymph_nodes ? : no\n",
      "\n",
      "\n",
      "\n",
      "malaise ? : no\n",
      "\n",
      "\n",
      "\n",
      "red_spots_over_body ? : no\n",
      "\n",
      "\n",
      "You should take the consultation from doctor. \n",
      "You may have  Chicken pox or  hepatitis A\n",
      "Chickenpox is a highly contagious disease caused by the varicella-zoster virus (VZV). It can cause an itchy, blister-like rash. The rash first appears on the chest, back, and face, and then spreads over the entire body, causing between 250 and 500 itchy blisters.\n",
      "Hepatitis A is a highly contagious liver infection caused by the hepatitis A virus. The virus is one of several types of hepatitis viruses that cause inflammation and affect your liver's ability to function.\n",
      "Please take following measures : \n",
      "1 ) use neem in bathing \n",
      "2 ) consume neem leaves\n",
      "3 ) take vaccine\n",
      "4 ) avoid public places\n",
      "\n",
      "\n",
      "\t\t\t<------ Thank you for using me! GoodBye---->\n",
      "\n",
      "\n"
     ]
    }
   ],
   "source": [
    "# Please run this cell to launch the chatbot\n",
    "# The functions getSeverityDict, getDescription, getprecautionDict are used to extract and process data from csv files.\n",
    "# tree_to_code contains Decision Tree implementation.\n",
    "\n",
    "getSeverityDict()\n",
    "getDescription()\n",
    "getprecautionDict()\n",
    "getInfo()\n",
    "tree_to_code(clf,cols)"
   ]
  },
  {
   "cell_type": "code",
   "execution_count": null,
   "id": "f950ad2c",
   "metadata": {},
   "outputs": [],
   "source": []
  }
 ],
 "metadata": {
  "kernelspec": {
   "display_name": "Python 3 (ipykernel)",
   "language": "python",
   "name": "python3"
  },
  "language_info": {
   "codemirror_mode": {
    "name": "ipython",
    "version": 3
   },
   "file_extension": ".py",
   "mimetype": "text/x-python",
   "name": "python",
   "nbconvert_exporter": "python",
   "pygments_lexer": "ipython3",
   "version": "3.9.7"
  }
 },
 "nbformat": 4,
 "nbformat_minor": 5
}
